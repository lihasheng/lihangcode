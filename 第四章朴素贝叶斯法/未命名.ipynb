{
 "cells": [
  {
   "cell_type": "code",
   "execution_count": 32,
   "metadata": {},
   "outputs": [
    {
     "name": "stdout",
     "output_type": "stream",
     "text": [
      "(0, 0.06666666666666667)\n",
      "(0, 0.06100217864923746)\n",
      "(3, 5.5704099821746884e-05)\n"
     ]
    }
   ],
   "source": [
    "import numpy as np\n",
    "from numpy.random import randint\n",
    "\n",
    "class Bayes():\n",
    "    def __init__(self, x_n = None, y_n = None, off = 0):\n",
    "        self.off = off\n",
    "        if x_n == None:\n",
    "            self.x_n = [randint(1, 10) for i in range(randint(1, 10))]\n",
    "        else:\n",
    "            self.x_n = x_n\n",
    "        if y_n == None:\n",
    "            self.y_n = randint(1, 10)\n",
    "        else:\n",
    "            self.y_n = y_n\n",
    "        self.num = None\n",
    "        self.x = None\n",
    "        self.y = None\n",
    "    \n",
    "    def roll(self, num = 10):\n",
    "        self.num = num\n",
    "        self.x = np.array( [[randint(i) for j in range(num)] for i in self.x_n] ).T\n",
    "        assert self.x.shape == (self.num,len(self.x_n))\n",
    "        self.y = randint(self.y_n, size = (self.num,))\n",
    "        assert self.y.shape == (self.num,)\n",
    "    \n",
    "    def process(self):\n",
    "        self.p_y = np.array([(np.sum(self.y == i) + self.off)/ (self.num + self.off*self.y_n) for i in range(self.y_n)])\n",
    "        self.p_y_x_l = np.array([[[(np.sum((self.y == i)*(self.x.T[_].T == k)) + self.off) / (np.sum(self.y == i) + self.off*j) for k in range(j)] for _,j in enumerate(self.x_n)] for i in range(self.y_n)])\n",
    "        \n",
    "    def predict(self, x):\n",
    "        ret = 0\n",
    "        prob = 0\n",
    "        for i in range(self.y_n):\n",
    "            temp = self.p_y[i]\n",
    "            for j in range(len(self.x_n)):\n",
    "                temp = temp * self.p_y_x_l[i][j][x[j]]\n",
    "            if temp > prob:\n",
    "                prob = temp\n",
    "                ret = i\n",
    "        return ret,prob\n",
    "\n",
    "if __name__ == \"__main__\":\n",
    "    #样例4.1\n",
    "    bayes = Bayes([3,3],2,0)\n",
    "    bayes.num = 15\n",
    "    bayes.x = np.array([[0,0],[0,1],[0,1],[0,0],[0,0],[1,0],[1,1],[1,1],[1,2],[1,2],[2,2],[2,1],[2,1],[2,2],[2,2] ])\n",
    "    bayes.y = np.array([0,0,1,1,0,0,0,1,1,1,1,1,1,1,0])\n",
    "    bayes.process()\n",
    "    print(bayes.predict([1,0]))\n",
    "    \n",
    "    #样例4.2\n",
    "    bayes = Bayes([3,3],2,1)\n",
    "    bayes.num = 15\n",
    "    bayes.x = np.array([[0,0],[0,1],[0,1],[0,0],[0,0],[1,0],[1,1],[1,1],[1,2],[1,2],[2,2],[2,1],[2,1],[2,2],[2,2] ])\n",
    "    bayes.y = np.array([0,0,1,1,0,0,0,1,1,1,1,1,1,1,0])\n",
    "    bayes.process()\n",
    "    print(bayes.predict([1,0]))\n",
    "    \n",
    "    #随机\n",
    "    bayes = Bayes(off=1)\n",
    "    bayes.roll()\n",
    "    bayes.process()\n",
    "    print(bayes.predict([randint(i) for i in bayes.x_n]))"
   ]
  },
  {
   "cell_type": "code",
   "execution_count": null,
   "metadata": {},
   "outputs": [],
   "source": []
  }
 ],
 "metadata": {
  "kernelspec": {
   "display_name": "Python 3",
   "language": "python",
   "name": "python3"
  },
  "language_info": {
   "codemirror_mode": {
    "name": "ipython",
    "version": 3
   },
   "file_extension": ".py",
   "mimetype": "text/x-python",
   "name": "python",
   "nbconvert_exporter": "python",
   "pygments_lexer": "ipython3",
   "version": "3.7.3"
  }
 },
 "nbformat": 4,
 "nbformat_minor": 2
}
