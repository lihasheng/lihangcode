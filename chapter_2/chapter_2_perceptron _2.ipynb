{
 "cells": [
  {
   "cell_type": "code",
   "execution_count": 18,
   "metadata": {},
   "outputs": [
    {
     "name": "stdout",
     "output_type": "stream",
     "text": [
      "M = 2, Train done!\n"
     ]
    },
    {
     "name": "stderr",
     "output_type": "stream",
     "text": [
      "/home/dongyu/anaconda3/lib/python3.7/site-packages/ipykernel_launcher.py:39: FutureWarning: arrays to stack must be passed as a \"sequence\" type such as list or tuple. Support for non-sequence iterables such as generators is deprecated as of NumPy 1.16 and will raise an error in the future.\n",
      "/home/dongyu/anaconda3/lib/python3.7/site-packages/ipykernel_launcher.py:40: FutureWarning: arrays to stack must be passed as a \"sequence\" type such as list or tuple. Support for non-sequence iterables such as generators is deprecated as of NumPy 1.16 and will raise an error in the future.\n"
     ]
    },
    {
     "data": {
      "image/png": "[encoded data removed]",
      "text/plain": [
       "<Figure size 432x288 with 1 Axes>"
      ]
     },
     "metadata": {
      "needs_background": "light"
     },
     "output_type": "display_data"
    },
    {
     "name": "stdout",
     "output_type": "stream",
     "text": [
      "M = 10, Train done!\n"
     ]
    }
   ],
   "source": [
    "#感知机对偶形式\n",
    "import numpy as np\n",
    "import matplotlib.pyplot as plt\n",
    "\n",
    "class perceptron:\n",
    "    #M代表样本点个数\n",
    "    def __init__(self, M):\n",
    "        self.a = np.zeros(M)\n",
    "        self.w = np.dot(self.a,x)\n",
    "        self.b = np.zeros(1)\n",
    "        self.learning_rate = 0.001\n",
    "    \n",
    "    def loss(self):\n",
    "        return np.sum(self.sign() != y)\n",
    "    \n",
    "    def sign(self):\n",
    "        return np.sign(np.dot(self.a,gram.T)+self.b)\n",
    "    \n",
    "    def backward(self):\n",
    "        cnt = np.random.randint(0,number)\n",
    "        sign = np.sign(np.dot(self.a,gram[cnt].T)+self.b)\n",
    "        if sign != y[cnt]:\n",
    "            #这里复杂度O(1),相比原始形式降低复杂度\n",
    "            self.a[cnt] = self.a[cnt] + self.learning_rate * y[cnt]\n",
    "            self.b = self.b + self.learning_rate * y[cnt]\n",
    "        \n",
    "    def train(self):\n",
    "        while self.loss():\n",
    "            self.backward()\n",
    "        #restore\n",
    "        self.w = np.dot(self.a,x)\n",
    "    \n",
    "if __name__ == \"__main__\":\n",
    "    M = 2\n",
    "    w = np.random.randn(M)\n",
    "    b = np.random.randn(1)\n",
    "    x = np.random.randn(M+10,M)\n",
    "    y = np.sign(np.dot(w,x.T)+b)\n",
    "    x1 = np.stack(_x for _,_x in enumerate(x) if y[_] == 1)\n",
    "    x2 = np.stack(_x for _,_x in enumerate(x) if y[_] == -1)\n",
    "    #gram\n",
    "    gram = np.dot(x,x.T)\n",
    "    assert gram.shape == (M+10,M+10)\n",
    "    \n",
    "    number = x.shape[0]\n",
    "    x_points = np.linspace(-4,4,1000)\n",
    "    \n",
    "    chicken = perceptron(M+10)\n",
    "    chicken.train()\n",
    "    print(\"M = %d, Train done!\"%M)\n",
    "    \n",
    "    plt.plot(x1[...,0],x1[...,1],'bo',label='first')\n",
    "    plt.plot(x2[...,0],x2[...,1],'ro',label='second')\n",
    "    plt.plot(x_points,(-b-x_points*w[0])/w[1],label='real')\n",
    "    plt.plot(x_points,(-chicken.b-x_points*chicken.w[0])/chicken.w[1],label='fitted')\n",
    "    plt.legend()\n",
    "    plt.show()\n",
    "    \n",
    "    M = 10\n",
    "    w = np.random.randn(M)\n",
    "    b = np.random.randn(1)\n",
    "    x = np.random.randn(M+100,M)\n",
    "    #gram\n",
    "    gram = np.dot(x,x.T)\n",
    "    assert gram.shape == (M+100,M+100)\n",
    "    \n",
    "    y = np.sign(np.dot(w,x.T)+b)\n",
    "    number = x.shape[0]\n",
    "    \n",
    "    chicken = perceptron(M+100)\n",
    "    chicken.train()\n",
    "    print(\"M = %d, Train done!\"%M)"
   ]
  },
  {
   "cell_type": "code",
   "execution_count": null,
   "metadata": {},
   "outputs": [],
   "source": []
  }
 ],
 "metadata": {
  "kernelspec": {
   "display_name": "Python 3",
   "language": "python",
   "name": "python3"
  },
  "language_info": {
   "codemirror_mode": {
    "name": "ipython",
    "version": 3
   },
   "file_extension": ".py",
   "mimetype": "text/x-python",
   "name": "python",
   "nbconvert_exporter": "python",
   "pygments_lexer": "ipython3",
   "version": "3.7.3"
  }
 },
 "nbformat": 4,
 "nbformat_minor": 2
}
